{
 "cells": [
  {
   "cell_type": "markdown",
   "id": "9f91fde0",
   "metadata": {},
   "source": [
    "# Données entreprises 2020\n",
    "\n"
   ]
  },
  {
   "cell_type": "code",
   "execution_count": 35,
   "id": "ee4ac0f1",
   "metadata": {},
   "outputs": [],
   "source": [
    "import pandas as pd # mettre sous forme de tableau\n",
    "import numpy as np # algebre lineaire"
   ]
  },
  {
   "cell_type": "code",
   "execution_count": 36,
   "id": "1195a956",
   "metadata": {},
   "outputs": [],
   "source": [
    "data = pd.read_csv('chiffres-cles-2020.csv',sep=';', low_memory=False)"
   ]
  },
  {
   "cell_type": "code",
   "execution_count": 37,
   "id": "fda137d2",
   "metadata": {},
   "outputs": [
    {
     "data": {
      "text/plain": [
       "Dénomination                       0\n",
       "Siren                              1\n",
       "fiche_identite                     1\n",
       "Forme Juridique                   15\n",
       "Nic                               87\n",
       "Code Greffe                      234\n",
       "Greffe                           238\n",
       "Statut                           258\n",
       "Date immatriculation             265\n",
       "Date de publication              283\n",
       "Ville                            286\n",
       "Millesime 1                      298\n",
       "Date de cloture exercice 1       301\n",
       "tranche_ca_millesime_1           316\n",
       "Durée 1                          317\n",
       "tranche_ca_millesime_2           340\n",
       "tranche_ca_millesime_3           350\n",
       "Code postal                      426\n",
       "Num. dept.                       445\n",
       "Adresse                         4596\n",
       "Département                     6621\n",
       "Région                          6636\n",
       "Code APE                       13292\n",
       "Libellé APE                    13302\n",
       "Millesime 2                    72483\n",
       "Date de cloture exercice 2     72491\n",
       "Durée 2                        72814\n",
       "Millesime 3                   124029\n",
       "Date de cloture exercice 3    124029\n",
       "Durée 3                       124118\n",
       "Résultat 1                    484954\n",
       "Résultat 3                    492313\n",
       "CA 3                          494558\n",
       "Résultat 2                    494717\n",
       "CA 1                          496422\n",
       "CA 2                          499169\n",
       "Effectif 3                    600913\n",
       "Effectif 2                    601881\n",
       "Effectif 1                    634848\n",
       "Date radiation                681663\n",
       "Geolocalisation               681664\n",
       "dtype: int64"
      ]
     },
     "execution_count": 37,
     "metadata": {},
     "output_type": "execute_result"
    }
   ],
   "source": [
    "# Nombre de données nulles par colonnes\n",
    "data.isnull().sum().sort_values()"
   ]
  },
  {
   "cell_type": "markdown",
   "id": "ec5259af",
   "metadata": {},
   "source": [
    "Nous allons essayer de récuperer toutes les entreprises dont le siège social est à Paris"
   ]
  },
  {
   "cell_type": "code",
   "execution_count": 38,
   "id": "794cdb77",
   "metadata": {},
   "outputs": [
    {
     "data": {
      "text/plain": [
       "39458"
      ]
     },
     "execution_count": 38,
     "metadata": {},
     "output_type": "execute_result"
    }
   ],
   "source": [
    "# La donnée auquelle nous allons nous intéresser\n",
    "(data['Greffe'] == 'PARIS').sum()"
   ]
  },
  {
   "cell_type": "code",
   "execution_count": 39,
   "id": "9e6c47cf",
   "metadata": {},
   "outputs": [
    {
     "data": {
      "text/plain": [
       "(39696, 41)"
      ]
     },
     "execution_count": 39,
     "metadata": {},
     "output_type": "execute_result"
    }
   ],
   "source": [
    "data_paris.shape\n"
   ]
  },
  {
   "cell_type": "code",
   "execution_count": 40,
   "id": "6ad02857",
   "metadata": {},
   "outputs": [],
   "source": [
    "data_no_greffe_not_paris = data_paris[data_paris['Greffe'] != 'PARIS'].copy()"
   ]
  },
  {
   "cell_type": "code",
   "execution_count": 41,
   "id": "df490495",
   "metadata": {},
   "outputs": [
    {
     "data": {
      "text/plain": [
       "(39445, 41)"
      ]
     },
     "execution_count": 41,
     "metadata": {},
     "output_type": "execute_result"
    }
   ],
   "source": [
    "df1 = data[(75000 < data['Code postal']) & (data['Code postal'] < 76000)].copy()\n",
    "df1.shape"
   ]
  },
  {
   "cell_type": "code",
   "execution_count": 42,
   "id": "bb9fd6f1",
   "metadata": {},
   "outputs": [
    {
     "data": {
      "text/plain": [
       "(39458, 41)"
      ]
     },
     "execution_count": 42,
     "metadata": {},
     "output_type": "execute_result"
    }
   ],
   "source": [
    "df2 = data[data['Greffe'] == 'PARIS'].copy()\n",
    "df2.shape"
   ]
  },
  {
   "cell_type": "code",
   "execution_count": 43,
   "id": "fd5195cb",
   "metadata": {},
   "outputs": [
    {
     "data": {
      "text/html": [
       "<div>\n",
       "<style scoped>\n",
       "    .dataframe tbody tr th:only-of-type {\n",
       "        vertical-align: middle;\n",
       "    }\n",
       "\n",
       "    .dataframe tbody tr th {\n",
       "        vertical-align: top;\n",
       "    }\n",
       "\n",
       "    .dataframe thead th {\n",
       "        text-align: right;\n",
       "    }\n",
       "</style>\n",
       "<table border=\"1\" class=\"dataframe\">\n",
       "  <thead>\n",
       "    <tr style=\"text-align: right;\">\n",
       "      <th></th>\n",
       "      <th>Greffe</th>\n",
       "      <th>Code postal</th>\n",
       "      <th>Ville</th>\n",
       "      <th>Adresse</th>\n",
       "    </tr>\n",
       "  </thead>\n",
       "  <tbody>\n",
       "    <tr>\n",
       "      <th>186942</th>\n",
       "      <td>NaN</td>\n",
       "      <td>75008.0</td>\n",
       "      <td>PARIS</td>\n",
       "      <td>19 RUE DE TURIN</td>\n",
       "    </tr>\n",
       "    <tr>\n",
       "      <th>385039</th>\n",
       "      <td>NaN</td>\n",
       "      <td>75008.0</td>\n",
       "      <td>PARIS</td>\n",
       "      <td>34 AVENUE DES CHAMPS ELYSEES</td>\n",
       "    </tr>\n",
       "  </tbody>\n",
       "</table>\n",
       "</div>"
      ],
      "text/plain": [
       "       Greffe  Code postal  Ville                       Adresse\n",
       "186942    NaN      75008.0  PARIS               19 RUE DE TURIN\n",
       "385039    NaN      75008.0  PARIS  34 AVENUE DES CHAMPS ELYSEES"
      ]
     },
     "execution_count": 43,
     "metadata": {},
     "output_type": "execute_result"
    }
   ],
   "source": [
    "pd.concat([df1,df2,df2]).drop_duplicates(keep=False)[['Greffe','Code postal','Ville','Adresse']]"
   ]
  },
  {
   "cell_type": "markdown",
   "id": "77c4925e",
   "metadata": {},
   "source": [
    "Il y a deux entreprises qui ont pour ville Paris mais pas de valeur pour le greffe, rectifions cela"
   ]
  },
  {
   "cell_type": "code",
   "execution_count": 44,
   "id": "0d3a7656",
   "metadata": {},
   "outputs": [],
   "source": [
    "data.loc[[186942,385039],['Greffe']] = 'PARIS'"
   ]
  },
  {
   "cell_type": "markdown",
   "id": "6faac62a",
   "metadata": {},
   "source": [
    "## Entreprises à Paris 2020"
   ]
  },
  {
   "cell_type": "code",
   "execution_count": 48,
   "id": "c8157f5f",
   "metadata": {},
   "outputs": [],
   "source": [
    "data_paris = data[data['Greffe'] == 'PARIS'].copy()"
   ]
  },
  {
   "cell_type": "code",
   "execution_count": 79,
   "id": "b5eae7d0",
   "metadata": {
    "scrolled": false
   },
   "outputs": [],
   "source": [
    "all_cols = data_paris.isnull().sum().sort_values()"
   ]
  },
  {
   "cell_type": "code",
   "execution_count": 61,
   "id": "b1b1c8db",
   "metadata": {},
   "outputs": [
    {
     "data": {
      "text/plain": [
       "89.05980739989863"
      ]
     },
     "execution_count": 61,
     "metadata": {},
     "output_type": "execute_result"
    }
   ],
   "source": [
    "data_paris['Effectif 1'].isnull().sum()/ data_paris.shape[0] * 100"
   ]
  },
  {
   "cell_type": "markdown",
   "id": "848af2e0",
   "metadata": {},
   "source": [
    "Certaines colonnes contiennent près de 90% de données nulles, nous n'allons pas les supprimer"
   ]
  },
  {
   "cell_type": "code",
   "execution_count": 78,
   "id": "92989c14",
   "metadata": {},
   "outputs": [],
   "source": [
    "data_paris[data_paris['Code postal'].isnull()];"
   ]
  },
  {
   "cell_type": "code",
   "execution_count": 99,
   "id": "b3f61982",
   "metadata": {},
   "outputs": [],
   "source": [
    "drop_cols = (all_cols[all_cols > 30000]).keys()"
   ]
  },
  {
   "cell_type": "code",
   "execution_count": 130,
   "id": "c78f5495",
   "metadata": {},
   "outputs": [],
   "source": [
    "data = data_paris.drop(drop_cols, axis=1)"
   ]
  },
  {
   "cell_type": "code",
   "execution_count": 131,
   "id": "796a6402",
   "metadata": {},
   "outputs": [
    {
     "data": {
      "text/plain": [
       "Dénomination                      0\n",
       "Siren                             0\n",
       "fiche_identite                    0\n",
       "Forme Juridique                   0\n",
       "Greffe                            0\n",
       "Date immatriculation              2\n",
       "Code Greffe                       2\n",
       "Date de publication               6\n",
       "Statut                            6\n",
       "Date de cloture exercice 1        8\n",
       "Millesime 1                       8\n",
       "tranche_ca_millesime_1            9\n",
       "Durée 1                           9\n",
       "Nic                              10\n",
       "tranche_ca_millesime_3           11\n",
       "tranche_ca_millesime_2           11\n",
       "Adresse                          12\n",
       "Ville                            15\n",
       "Code postal                      15\n",
       "Département                      16\n",
       "Région                           16\n",
       "Num. dept.                       16\n",
       "Code APE                       1871\n",
       "Libellé APE                    1871\n",
       "Millesime 2                    6334\n",
       "Durée 2                        6334\n",
       "Date de cloture exercice 2     6334\n",
       "Millesime 3                    9575\n",
       "Date de cloture exercice 3     9575\n",
       "Durée 3                        9575\n",
       "Résultat 1                    22720\n",
       "CA 1                          23247\n",
       "Résultat 2                    24452\n",
       "Résultat 3                    24619\n",
       "CA 2                          24933\n",
       "CA 3                          25142\n",
       "dtype: int64"
      ]
     },
     "execution_count": 131,
     "metadata": {},
     "output_type": "execute_result"
    }
   ],
   "source": [
    "data.isnull().sum().sort_values()"
   ]
  },
  {
   "cell_type": "markdown",
   "id": "b4bca3cd",
   "metadata": {},
   "source": [
    "Une petite recherche google nous permet de conclure les date d'immatriculation"
   ]
  },
  {
   "cell_type": "code",
   "execution_count": 132,
   "id": "9d6f32a5",
   "metadata": {},
   "outputs": [
    {
     "data": {
      "text/html": [
       "<div>\n",
       "<style scoped>\n",
       "    .dataframe tbody tr th:only-of-type {\n",
       "        vertical-align: middle;\n",
       "    }\n",
       "\n",
       "    .dataframe tbody tr th {\n",
       "        vertical-align: top;\n",
       "    }\n",
       "\n",
       "    .dataframe thead th {\n",
       "        text-align: right;\n",
       "    }\n",
       "</style>\n",
       "<table border=\"1\" class=\"dataframe\">\n",
       "  <thead>\n",
       "    <tr style=\"text-align: right;\">\n",
       "      <th></th>\n",
       "      <th>Dénomination</th>\n",
       "      <th>Siren</th>\n",
       "      <th>Nic</th>\n",
       "      <th>Forme Juridique</th>\n",
       "      <th>Code APE</th>\n",
       "      <th>Libellé APE</th>\n",
       "      <th>Adresse</th>\n",
       "      <th>Code postal</th>\n",
       "      <th>Ville</th>\n",
       "      <th>Num. dept.</th>\n",
       "      <th>...</th>\n",
       "      <th>Résultat 2</th>\n",
       "      <th>Millesime 3</th>\n",
       "      <th>Date de cloture exercice 3</th>\n",
       "      <th>Durée 3</th>\n",
       "      <th>CA 3</th>\n",
       "      <th>Résultat 3</th>\n",
       "      <th>fiche_identite</th>\n",
       "      <th>tranche_ca_millesime_1</th>\n",
       "      <th>tranche_ca_millesime_2</th>\n",
       "      <th>tranche_ca_millesime_3</th>\n",
       "    </tr>\n",
       "  </thead>\n",
       "  <tbody>\n",
       "    <tr>\n",
       "      <th>186942</th>\n",
       "      <td>MAISON GABRIELLE BEAU</td>\n",
       "      <td>880877113</td>\n",
       "      <td>14.0</td>\n",
       "      <td>Societe par actions simplifiee a associe unique</td>\n",
       "      <td>7410Z</td>\n",
       "      <td>Activites specialisees de design</td>\n",
       "      <td>19 RUE DE TURIN</td>\n",
       "      <td>75008.0</td>\n",
       "      <td>PARIS</td>\n",
       "      <td>75.0</td>\n",
       "      <td>...</td>\n",
       "      <td>NaN</td>\n",
       "      <td>NaN</td>\n",
       "      <td>NaN</td>\n",
       "      <td>NaN</td>\n",
       "      <td>NaN</td>\n",
       "      <td>NaN</td>\n",
       "      <td>https://www.infogreffe.fr/infogreffe/ficheIden...</td>\n",
       "      <td>NaN</td>\n",
       "      <td>NaN</td>\n",
       "      <td>NaN</td>\n",
       "    </tr>\n",
       "    <tr>\n",
       "      <th>385039</th>\n",
       "      <td>GROUP ELAN</td>\n",
       "      <td>882920515</td>\n",
       "      <td>13.0</td>\n",
       "      <td>Societe par actions simplifiee</td>\n",
       "      <td>7022Z</td>\n",
       "      <td>Conseil pour les affaires et autres conseils d...</td>\n",
       "      <td>34 AVENUE DES CHAMPS ELYSEES</td>\n",
       "      <td>75008.0</td>\n",
       "      <td>PARIS</td>\n",
       "      <td>NaN</td>\n",
       "      <td>...</td>\n",
       "      <td>NaN</td>\n",
       "      <td>NaN</td>\n",
       "      <td>NaN</td>\n",
       "      <td>NaN</td>\n",
       "      <td>NaN</td>\n",
       "      <td>NaN</td>\n",
       "      <td>https://www.infogreffe.fr/infogreffe/ficheIden...</td>\n",
       "      <td>NaN</td>\n",
       "      <td>NaN</td>\n",
       "      <td>NaN</td>\n",
       "    </tr>\n",
       "  </tbody>\n",
       "</table>\n",
       "<p>2 rows × 36 columns</p>\n",
       "</div>"
      ],
      "text/plain": [
       "                 Dénomination      Siren   Nic  \\\n",
       "186942  MAISON GABRIELLE BEAU  880877113  14.0   \n",
       "385039             GROUP ELAN  882920515  13.0   \n",
       "\n",
       "                                        Forme Juridique Code APE  \\\n",
       "186942  Societe par actions simplifiee a associe unique    7410Z   \n",
       "385039                   Societe par actions simplifiee    7022Z   \n",
       "\n",
       "                                              Libellé APE  \\\n",
       "186942                   Activites specialisees de design   \n",
       "385039  Conseil pour les affaires et autres conseils d...   \n",
       "\n",
       "                             Adresse  Code postal  Ville  Num. dept.  ...  \\\n",
       "186942               19 RUE DE TURIN      75008.0  PARIS        75.0  ...   \n",
       "385039  34 AVENUE DES CHAMPS ELYSEES      75008.0  PARIS         NaN  ...   \n",
       "\n",
       "       Résultat 2 Millesime 3  Date de cloture exercice 3 Durée 3 CA 3  \\\n",
       "186942        NaN         NaN                         NaN     NaN  NaN   \n",
       "385039        NaN         NaN                         NaN     NaN  NaN   \n",
       "\n",
       "       Résultat 3                                     fiche_identite  \\\n",
       "186942        NaN  https://www.infogreffe.fr/infogreffe/ficheIden...   \n",
       "385039        NaN  https://www.infogreffe.fr/infogreffe/ficheIden...   \n",
       "\n",
       "        tranche_ca_millesime_1 tranche_ca_millesime_2  tranche_ca_millesime_3  \n",
       "186942                     NaN                    NaN                     NaN  \n",
       "385039                     NaN                    NaN                     NaN  \n",
       "\n",
       "[2 rows x 36 columns]"
      ]
     },
     "execution_count": 132,
     "metadata": {},
     "output_type": "execute_result"
    }
   ],
   "source": [
    "data[data['Date immatriculation'].isnull()]"
   ]
  },
  {
   "cell_type": "code",
   "execution_count": 133,
   "id": "87065a0a",
   "metadata": {},
   "outputs": [],
   "source": [
    "indice = [186942,385039]\n",
    "date = ['2020-01-22','2020-04-15']"
   ]
  },
  {
   "cell_type": "code",
   "execution_count": 134,
   "id": "745f46aa",
   "metadata": {},
   "outputs": [],
   "source": [
    "data.loc[indice, 'Date immatriculation'] = date"
   ]
  },
  {
   "cell_type": "markdown",
   "id": "1a883764",
   "metadata": {},
   "source": [
    "Ajouté correctement"
   ]
  },
  {
   "cell_type": "code",
   "execution_count": 135,
   "id": "dd275716",
   "metadata": {},
   "outputs": [
    {
     "data": {
      "text/plain": [
       "186942    2020-01-22\n",
       "385039    2020-04-15\n",
       "Name: Date immatriculation, dtype: object"
      ]
     },
     "execution_count": 135,
     "metadata": {},
     "output_type": "execute_result"
    }
   ],
   "source": [
    "data.loc[indice, 'Date immatriculation']"
   ]
  },
  {
   "cell_type": "code",
   "execution_count": 139,
   "id": "01ec4b57",
   "metadata": {},
   "outputs": [],
   "source": [
    "data.to_csv('chiffres-paris-2020.csv', index=False)"
   ]
  },
  {
   "cell_type": "code",
   "execution_count": 140,
   "id": "3603472a",
   "metadata": {},
   "outputs": [],
   "source": [
    "df = pd.read_csv('chiffres-paris-2020.csv')"
   ]
  },
  {
   "cell_type": "code",
   "execution_count": 141,
   "id": "7369b3d2",
   "metadata": {
    "scrolled": false
   },
   "outputs": [
    {
     "data": {
      "text/html": [
       "<div>\n",
       "<style scoped>\n",
       "    .dataframe tbody tr th:only-of-type {\n",
       "        vertical-align: middle;\n",
       "    }\n",
       "\n",
       "    .dataframe tbody tr th {\n",
       "        vertical-align: top;\n",
       "    }\n",
       "\n",
       "    .dataframe thead th {\n",
       "        text-align: right;\n",
       "    }\n",
       "</style>\n",
       "<table border=\"1\" class=\"dataframe\">\n",
       "  <thead>\n",
       "    <tr style=\"text-align: right;\">\n",
       "      <th></th>\n",
       "      <th>Dénomination</th>\n",
       "      <th>Siren</th>\n",
       "      <th>Nic</th>\n",
       "      <th>Forme Juridique</th>\n",
       "      <th>Code APE</th>\n",
       "      <th>Libellé APE</th>\n",
       "      <th>Adresse</th>\n",
       "      <th>Code postal</th>\n",
       "      <th>Ville</th>\n",
       "      <th>Num. dept.</th>\n",
       "      <th>...</th>\n",
       "      <th>Résultat 2</th>\n",
       "      <th>Millesime 3</th>\n",
       "      <th>Date de cloture exercice 3</th>\n",
       "      <th>Durée 3</th>\n",
       "      <th>CA 3</th>\n",
       "      <th>Résultat 3</th>\n",
       "      <th>fiche_identite</th>\n",
       "      <th>tranche_ca_millesime_1</th>\n",
       "      <th>tranche_ca_millesime_2</th>\n",
       "      <th>tranche_ca_millesime_3</th>\n",
       "    </tr>\n",
       "  </thead>\n",
       "  <tbody>\n",
       "    <tr>\n",
       "      <th>0</th>\n",
       "      <td>D C AUDIOVISUEL</td>\n",
       "      <td>313669681</td>\n",
       "      <td>14.0</td>\n",
       "      <td>Societe par actions simplifiee</td>\n",
       "      <td>5912Z</td>\n",
       "      <td>Post-production de films cinematographiques, d...</td>\n",
       "      <td>3 RUE EDMOND ROGER</td>\n",
       "      <td>75015.0</td>\n",
       "      <td>PARIS</td>\n",
       "      <td>75.0</td>\n",
       "      <td>...</td>\n",
       "      <td>175595.0</td>\n",
       "      <td>2018.0</td>\n",
       "      <td>2018-03-31</td>\n",
       "      <td>12.0</td>\n",
       "      <td>3097293.0</td>\n",
       "      <td>373019.0</td>\n",
       "      <td>https://www.infogreffe.fr/infogreffe/ficheIden...</td>\n",
       "      <td>E + d 1M</td>\n",
       "      <td>E + d 1M</td>\n",
       "      <td>E + d 1M</td>\n",
       "    </tr>\n",
       "    <tr>\n",
       "      <th>1</th>\n",
       "      <td>EMI MUSIC PUBLISHING FRANCE</td>\n",
       "      <td>344035969</td>\n",
       "      <td>72.0</td>\n",
       "      <td>Societe par actions simplifiee a associe unique</td>\n",
       "      <td>5920Z</td>\n",
       "      <td>Enregistrement sonore et edition musicale</td>\n",
       "      <td>27 RUE DE BERRI</td>\n",
       "      <td>75008.0</td>\n",
       "      <td>PARIS</td>\n",
       "      <td>75.0</td>\n",
       "      <td>...</td>\n",
       "      <td>1454186.0</td>\n",
       "      <td>2018.0</td>\n",
       "      <td>2018-03-31</td>\n",
       "      <td>12.0</td>\n",
       "      <td>353227.0</td>\n",
       "      <td>1369811.0</td>\n",
       "      <td>https://www.infogreffe.fr/infogreffe/ficheIden...</td>\n",
       "      <td>A - de 32K</td>\n",
       "      <td>D entre 250K et 1M</td>\n",
       "      <td>D entre 250K et 1M</td>\n",
       "    </tr>\n",
       "    <tr>\n",
       "      <th>2</th>\n",
       "      <td>JPB CONSEIL</td>\n",
       "      <td>418142956</td>\n",
       "      <td>14.0</td>\n",
       "      <td>Societe a responsabilite limitee</td>\n",
       "      <td>6920Z</td>\n",
       "      <td>Activites comptables</td>\n",
       "      <td>9 RUE BRUNEL</td>\n",
       "      <td>75017.0</td>\n",
       "      <td>PARIS</td>\n",
       "      <td>75.0</td>\n",
       "      <td>...</td>\n",
       "      <td>NaN</td>\n",
       "      <td>2018.0</td>\n",
       "      <td>2018-01-31</td>\n",
       "      <td>12.0</td>\n",
       "      <td>NaN</td>\n",
       "      <td>NaN</td>\n",
       "      <td>https://www.infogreffe.fr/infogreffe/ficheIden...</td>\n",
       "      <td>A - de 32K</td>\n",
       "      <td>A - de 32K</td>\n",
       "      <td>A - de 32K</td>\n",
       "    </tr>\n",
       "    <tr>\n",
       "      <th>3</th>\n",
       "      <td>3 S D</td>\n",
       "      <td>428969711</td>\n",
       "      <td>46.0</td>\n",
       "      <td>Societe a responsabilite limitee a associe unique</td>\n",
       "      <td>NaN</td>\n",
       "      <td>NaN</td>\n",
       "      <td>14 RUE DU ROCHER</td>\n",
       "      <td>75008.0</td>\n",
       "      <td>PARIS</td>\n",
       "      <td>75.0</td>\n",
       "      <td>...</td>\n",
       "      <td>NaN</td>\n",
       "      <td>2018.0</td>\n",
       "      <td>2018-03-31</td>\n",
       "      <td>12.0</td>\n",
       "      <td>309589.0</td>\n",
       "      <td>-136249.0</td>\n",
       "      <td>https://www.infogreffe.fr/infogreffe/ficheIden...</td>\n",
       "      <td>C entre 82K et 250K</td>\n",
       "      <td>A - de 32K</td>\n",
       "      <td>D entre 250K et 1M</td>\n",
       "    </tr>\n",
       "    <tr>\n",
       "      <th>4</th>\n",
       "      <td>ASAP</td>\n",
       "      <td>490043494</td>\n",
       "      <td>31.0</td>\n",
       "      <td>Societe a responsabilite limitee</td>\n",
       "      <td>8020Z</td>\n",
       "      <td>Activites liees aux systemes de securite</td>\n",
       "      <td>10 RUE DE PENTHIEVRE</td>\n",
       "      <td>75008.0</td>\n",
       "      <td>PARIS</td>\n",
       "      <td>75.0</td>\n",
       "      <td>...</td>\n",
       "      <td>NaN</td>\n",
       "      <td>NaN</td>\n",
       "      <td>NaN</td>\n",
       "      <td>NaN</td>\n",
       "      <td>NaN</td>\n",
       "      <td>NaN</td>\n",
       "      <td>https://www.infogreffe.fr/infogreffe/ficheIden...</td>\n",
       "      <td>A - de 32K</td>\n",
       "      <td>A - de 32K</td>\n",
       "      <td>A - de 32K</td>\n",
       "    </tr>\n",
       "    <tr>\n",
       "      <th>...</th>\n",
       "      <td>...</td>\n",
       "      <td>...</td>\n",
       "      <td>...</td>\n",
       "      <td>...</td>\n",
       "      <td>...</td>\n",
       "      <td>...</td>\n",
       "      <td>...</td>\n",
       "      <td>...</td>\n",
       "      <td>...</td>\n",
       "      <td>...</td>\n",
       "      <td>...</td>\n",
       "      <td>...</td>\n",
       "      <td>...</td>\n",
       "      <td>...</td>\n",
       "      <td>...</td>\n",
       "      <td>...</td>\n",
       "      <td>...</td>\n",
       "      <td>...</td>\n",
       "      <td>...</td>\n",
       "      <td>...</td>\n",
       "      <td>...</td>\n",
       "    </tr>\n",
       "    <tr>\n",
       "      <th>39455</th>\n",
       "      <td>ODY-CD</td>\n",
       "      <td>880337720</td>\n",
       "      <td>10.0</td>\n",
       "      <td>Societe par actions simplifiee a associe unique</td>\n",
       "      <td>6202A</td>\n",
       "      <td>Conseil en systemes et logiciels informatiques</td>\n",
       "      <td>1 RUE GOSSEC</td>\n",
       "      <td>75012.0</td>\n",
       "      <td>PARIS</td>\n",
       "      <td>75.0</td>\n",
       "      <td>...</td>\n",
       "      <td>NaN</td>\n",
       "      <td>NaN</td>\n",
       "      <td>NaN</td>\n",
       "      <td>NaN</td>\n",
       "      <td>NaN</td>\n",
       "      <td>NaN</td>\n",
       "      <td>https://www.infogreffe.fr/infogreffe/ficheIden...</td>\n",
       "      <td>E + d 1M</td>\n",
       "      <td>E + d 1M</td>\n",
       "      <td>E + d 1M</td>\n",
       "    </tr>\n",
       "    <tr>\n",
       "      <th>39456</th>\n",
       "      <td>AIR360</td>\n",
       "      <td>881696769</td>\n",
       "      <td>10.0</td>\n",
       "      <td>Societe par actions simplifiee a associe unique</td>\n",
       "      <td>5829C</td>\n",
       "      <td>Edition de logiciels applicatifs</td>\n",
       "      <td>91 RUE DU FAUBOURG SAINT HONORE</td>\n",
       "      <td>75008.0</td>\n",
       "      <td>PARIS</td>\n",
       "      <td>75.0</td>\n",
       "      <td>...</td>\n",
       "      <td>NaN</td>\n",
       "      <td>NaN</td>\n",
       "      <td>NaN</td>\n",
       "      <td>NaN</td>\n",
       "      <td>NaN</td>\n",
       "      <td>NaN</td>\n",
       "      <td>https://www.infogreffe.fr/infogreffe/ficheIden...</td>\n",
       "      <td>C entre 82K et 250K</td>\n",
       "      <td>E + d 1M</td>\n",
       "      <td>E + d 1M</td>\n",
       "    </tr>\n",
       "    <tr>\n",
       "      <th>39457</th>\n",
       "      <td>POKE CORNER</td>\n",
       "      <td>881770382</td>\n",
       "      <td>11.0</td>\n",
       "      <td>Societe par actions simplifiee</td>\n",
       "      <td>5610C</td>\n",
       "      <td>Restauration de type rapide</td>\n",
       "      <td>1 RUE LEOPOLD ROBERT</td>\n",
       "      <td>75014.0</td>\n",
       "      <td>PARIS</td>\n",
       "      <td>75.0</td>\n",
       "      <td>...</td>\n",
       "      <td>NaN</td>\n",
       "      <td>NaN</td>\n",
       "      <td>NaN</td>\n",
       "      <td>NaN</td>\n",
       "      <td>NaN</td>\n",
       "      <td>NaN</td>\n",
       "      <td>https://www.infogreffe.fr/infogreffe/ficheIden...</td>\n",
       "      <td>B entre 32K et 82K</td>\n",
       "      <td>E + d 1M</td>\n",
       "      <td>E + d 1M</td>\n",
       "    </tr>\n",
       "    <tr>\n",
       "      <th>39458</th>\n",
       "      <td>LH HEBERT</td>\n",
       "      <td>882198385</td>\n",
       "      <td>16.0</td>\n",
       "      <td>Societe par actions simplifiee</td>\n",
       "      <td>6810Z</td>\n",
       "      <td>Activites des marchands de biens immobiliers</td>\n",
       "      <td>4 RUE VICTOR SCHOELCHER</td>\n",
       "      <td>75014.0</td>\n",
       "      <td>PARIS</td>\n",
       "      <td>75.0</td>\n",
       "      <td>...</td>\n",
       "      <td>NaN</td>\n",
       "      <td>NaN</td>\n",
       "      <td>NaN</td>\n",
       "      <td>NaN</td>\n",
       "      <td>NaN</td>\n",
       "      <td>NaN</td>\n",
       "      <td>https://www.infogreffe.fr/infogreffe/ficheIden...</td>\n",
       "      <td>E + d 1M</td>\n",
       "      <td>E + d 1M</td>\n",
       "      <td>E + d 1M</td>\n",
       "    </tr>\n",
       "    <tr>\n",
       "      <th>39459</th>\n",
       "      <td>MOC Impact</td>\n",
       "      <td>883927642</td>\n",
       "      <td>16.0</td>\n",
       "      <td>Societe par actions simplifiee a associe unique</td>\n",
       "      <td>7022Z</td>\n",
       "      <td>Conseil pour les affaires et autres conseils d...</td>\n",
       "      <td>20 RUE LOUIS DAVID</td>\n",
       "      <td>75116.0</td>\n",
       "      <td>PARIS</td>\n",
       "      <td>75.0</td>\n",
       "      <td>...</td>\n",
       "      <td>NaN</td>\n",
       "      <td>NaN</td>\n",
       "      <td>NaN</td>\n",
       "      <td>NaN</td>\n",
       "      <td>NaN</td>\n",
       "      <td>NaN</td>\n",
       "      <td>https://www.infogreffe.fr/infogreffe/ficheIden...</td>\n",
       "      <td>E + d 1M</td>\n",
       "      <td>E + d 1M</td>\n",
       "      <td>E + d 1M</td>\n",
       "    </tr>\n",
       "  </tbody>\n",
       "</table>\n",
       "<p>39460 rows × 36 columns</p>\n",
       "</div>"
      ],
      "text/plain": [
       "                      Dénomination      Siren   Nic  \\\n",
       "0                  D C AUDIOVISUEL  313669681  14.0   \n",
       "1      EMI MUSIC PUBLISHING FRANCE  344035969  72.0   \n",
       "2                      JPB CONSEIL  418142956  14.0   \n",
       "3                            3 S D  428969711  46.0   \n",
       "4                             ASAP  490043494  31.0   \n",
       "...                            ...        ...   ...   \n",
       "39455                       ODY-CD  880337720  10.0   \n",
       "39456                       AIR360  881696769  10.0   \n",
       "39457                  POKE CORNER  881770382  11.0   \n",
       "39458                    LH HEBERT  882198385  16.0   \n",
       "39459                   MOC Impact  883927642  16.0   \n",
       "\n",
       "                                         Forme Juridique Code APE  \\\n",
       "0                         Societe par actions simplifiee    5912Z   \n",
       "1        Societe par actions simplifiee a associe unique    5920Z   \n",
       "2                       Societe a responsabilite limitee    6920Z   \n",
       "3      Societe a responsabilite limitee a associe unique      NaN   \n",
       "4                       Societe a responsabilite limitee    8020Z   \n",
       "...                                                  ...      ...   \n",
       "39455    Societe par actions simplifiee a associe unique    6202A   \n",
       "39456    Societe par actions simplifiee a associe unique    5829C   \n",
       "39457                     Societe par actions simplifiee    5610C   \n",
       "39458                     Societe par actions simplifiee    6810Z   \n",
       "39459    Societe par actions simplifiee a associe unique    7022Z   \n",
       "\n",
       "                                             Libellé APE  \\\n",
       "0      Post-production de films cinematographiques, d...   \n",
       "1              Enregistrement sonore et edition musicale   \n",
       "2                                   Activites comptables   \n",
       "3                                                    NaN   \n",
       "4               Activites liees aux systemes de securite   \n",
       "...                                                  ...   \n",
       "39455     Conseil en systemes et logiciels informatiques   \n",
       "39456                   Edition de logiciels applicatifs   \n",
       "39457                        Restauration de type rapide   \n",
       "39458       Activites des marchands de biens immobiliers   \n",
       "39459  Conseil pour les affaires et autres conseils d...   \n",
       "\n",
       "                               Adresse  Code postal  Ville  Num. dept.  ...  \\\n",
       "0                   3 RUE EDMOND ROGER      75015.0  PARIS        75.0  ...   \n",
       "1                      27 RUE DE BERRI      75008.0  PARIS        75.0  ...   \n",
       "2                         9 RUE BRUNEL      75017.0  PARIS        75.0  ...   \n",
       "3                     14 RUE DU ROCHER      75008.0  PARIS        75.0  ...   \n",
       "4                 10 RUE DE PENTHIEVRE      75008.0  PARIS        75.0  ...   \n",
       "...                                ...          ...    ...         ...  ...   \n",
       "39455                     1 RUE GOSSEC      75012.0  PARIS        75.0  ...   \n",
       "39456  91 RUE DU FAUBOURG SAINT HONORE      75008.0  PARIS        75.0  ...   \n",
       "39457             1 RUE LEOPOLD ROBERT      75014.0  PARIS        75.0  ...   \n",
       "39458          4 RUE VICTOR SCHOELCHER      75014.0  PARIS        75.0  ...   \n",
       "39459               20 RUE LOUIS DAVID      75116.0  PARIS        75.0  ...   \n",
       "\n",
       "      Résultat 2 Millesime 3  Date de cloture exercice 3 Durée 3       CA 3  \\\n",
       "0       175595.0      2018.0                  2018-03-31    12.0  3097293.0   \n",
       "1      1454186.0      2018.0                  2018-03-31    12.0   353227.0   \n",
       "2            NaN      2018.0                  2018-01-31    12.0        NaN   \n",
       "3            NaN      2018.0                  2018-03-31    12.0   309589.0   \n",
       "4            NaN         NaN                         NaN     NaN        NaN   \n",
       "...          ...         ...                         ...     ...        ...   \n",
       "39455        NaN         NaN                         NaN     NaN        NaN   \n",
       "39456        NaN         NaN                         NaN     NaN        NaN   \n",
       "39457        NaN         NaN                         NaN     NaN        NaN   \n",
       "39458        NaN         NaN                         NaN     NaN        NaN   \n",
       "39459        NaN         NaN                         NaN     NaN        NaN   \n",
       "\n",
       "      Résultat 3                                     fiche_identite  \\\n",
       "0       373019.0  https://www.infogreffe.fr/infogreffe/ficheIden...   \n",
       "1      1369811.0  https://www.infogreffe.fr/infogreffe/ficheIden...   \n",
       "2            NaN  https://www.infogreffe.fr/infogreffe/ficheIden...   \n",
       "3      -136249.0  https://www.infogreffe.fr/infogreffe/ficheIden...   \n",
       "4            NaN  https://www.infogreffe.fr/infogreffe/ficheIden...   \n",
       "...          ...                                                ...   \n",
       "39455        NaN  https://www.infogreffe.fr/infogreffe/ficheIden...   \n",
       "39456        NaN  https://www.infogreffe.fr/infogreffe/ficheIden...   \n",
       "39457        NaN  https://www.infogreffe.fr/infogreffe/ficheIden...   \n",
       "39458        NaN  https://www.infogreffe.fr/infogreffe/ficheIden...   \n",
       "39459        NaN  https://www.infogreffe.fr/infogreffe/ficheIden...   \n",
       "\n",
       "       tranche_ca_millesime_1 tranche_ca_millesime_2  tranche_ca_millesime_3  \n",
       "0                    E + d 1M               E + d 1M                E + d 1M  \n",
       "1                  A - de 32K     D entre 250K et 1M      D entre 250K et 1M  \n",
       "2                  A - de 32K             A - de 32K              A - de 32K  \n",
       "3         C entre 82K et 250K             A - de 32K      D entre 250K et 1M  \n",
       "4                  A - de 32K             A - de 32K              A - de 32K  \n",
       "...                       ...                    ...                     ...  \n",
       "39455                E + d 1M               E + d 1M                E + d 1M  \n",
       "39456     C entre 82K et 250K               E + d 1M                E + d 1M  \n",
       "39457      B entre 32K et 82K               E + d 1M                E + d 1M  \n",
       "39458                E + d 1M               E + d 1M                E + d 1M  \n",
       "39459                E + d 1M               E + d 1M                E + d 1M  \n",
       "\n",
       "[39460 rows x 36 columns]"
      ]
     },
     "execution_count": 141,
     "metadata": {},
     "output_type": "execute_result"
    }
   ],
   "source": [
    "df"
   ]
  },
  {
   "cell_type": "code",
   "execution_count": null,
   "id": "17bb41b3",
   "metadata": {},
   "outputs": [],
   "source": []
  }
 ],
 "metadata": {
  "kernelspec": {
   "display_name": "Python 3",
   "language": "python",
   "name": "python3"
  },
  "language_info": {
   "codemirror_mode": {
    "name": "ipython",
    "version": 3
   },
   "file_extension": ".py",
   "mimetype": "text/x-python",
   "name": "python",
   "nbconvert_exporter": "python",
   "pygments_lexer": "ipython3",
   "version": "3.8.8"
  }
 },
 "nbformat": 4,
 "nbformat_minor": 5
}
