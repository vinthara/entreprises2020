{
 "cells": [
  {
   "cell_type": "markdown",
   "id": "9f91fde0",
   "metadata": {},
   "source": [
    "# Données entreprises 2020\n",
    "\n"
   ]
  },
  {
   "cell_type": "code",
   "execution_count": 1,
   "id": "ee4ac0f1",
   "metadata": {},
   "outputs": [],
   "source": [
    "import pandas as pd # mettre sous forme de tableau\n",
    "import numpy as np # algebre lineaire"
   ]
  },
  {
   "cell_type": "code",
   "execution_count": 3,
   "id": "1195a956",
   "metadata": {},
   "outputs": [],
   "source": [
    "data = pd.read_csv('chiffres-cles-2020.csv',sep=';', low_memory=False)"
   ]
  },
  {
   "cell_type": "code",
   "execution_count": 4,
   "id": "fda137d2",
   "metadata": {},
   "outputs": [
    {
     "data": {
      "text/plain": [
       "Dénomination                       0\n",
       "Siren                              1\n",
       "fiche_identite                     1\n",
       "Forme Juridique                   15\n",
       "Nic                               87\n",
       "Code Greffe                      234\n",
       "Greffe                           238\n",
       "Statut                           258\n",
       "Date immatriculation             265\n",
       "Date de publication              283\n",
       "Ville                            286\n",
       "Millesime 1                      298\n",
       "Date de cloture exercice 1       301\n",
       "tranche_ca_millesime_1           316\n",
       "Durée 1                          317\n",
       "tranche_ca_millesime_2           340\n",
       "tranche_ca_millesime_3           350\n",
       "Code postal                      426\n",
       "Num. dept.                       445\n",
       "Adresse                         4596\n",
       "Département                     6621\n",
       "Région                          6636\n",
       "Code APE                       13292\n",
       "Libellé APE                    13302\n",
       "Millesime 2                    72483\n",
       "Date de cloture exercice 2     72491\n",
       "Durée 2                        72814\n",
       "Millesime 3                   124029\n",
       "Date de cloture exercice 3    124029\n",
       "Durée 3                       124118\n",
       "Résultat 1                    484954\n",
       "Résultat 3                    492313\n",
       "CA 3                          494558\n",
       "Résultat 2                    494717\n",
       "CA 1                          496422\n",
       "CA 2                          499169\n",
       "Effectif 3                    600913\n",
       "Effectif 2                    601881\n",
       "Effectif 1                    634848\n",
       "Date radiation                681663\n",
       "Geolocalisation               681664\n",
       "dtype: int64"
      ]
     },
     "execution_count": 4,
     "metadata": {},
     "output_type": "execute_result"
    }
   ],
   "source": [
    "# Nombre de données nulles par colonnes\n",
    "data.isnull().sum().sort_values()"
   ]
  },
  {
   "cell_type": "markdown",
   "id": "ec5259af",
   "metadata": {},
   "source": [
    "Nous allons essayer de récuperer toutes les entreprises dont le siège social est à Paris"
   ]
  },
  {
   "cell_type": "code",
   "execution_count": 5,
   "id": "9330856b",
   "metadata": {},
   "outputs": [
    {
     "data": {
      "text/plain": [
       "39458"
      ]
     },
     "execution_count": 5,
     "metadata": {},
     "output_type": "execute_result"
    }
   ],
   "source": [
    "# La donnée auquelle nous allons nous intéresser\n",
    "(data['Greffe'] == 'PARIS').sum()"
   ]
  },
  {
   "cell_type": "code",
   "execution_count": 6,
   "id": "6e8a5b91",
   "metadata": {},
   "outputs": [],
   "source": [
    "data_paris = data[data['Greffe'] == 'PARIS'].copy()\n"
   ]
  },
  {
   "cell_type": "code",
   "execution_count": 7,
   "id": "9e6c47cf",
   "metadata": {},
   "outputs": [
    {
     "data": {
      "text/plain": [
       "(39458, 41)"
      ]
     },
     "execution_count": 7,
     "metadata": {},
     "output_type": "execute_result"
    }
   ],
   "source": [
    "data_paris.shape\n"
   ]
  },
  {
   "cell_type": "code",
   "execution_count": 8,
   "id": "6ad02857",
   "metadata": {},
   "outputs": [],
   "source": [
    "data_no_greffe_not_paris = data_paris[data_paris['Greffe'] != 'PARIS'].copy()"
   ]
  },
  {
   "cell_type": "code",
   "execution_count": 9,
   "id": "df490495",
   "metadata": {},
   "outputs": [
    {
     "data": {
      "text/plain": [
       "(39445, 41)"
      ]
     },
     "execution_count": 9,
     "metadata": {},
     "output_type": "execute_result"
    }
   ],
   "source": [
    "df1 = data[(75000 < data['Code postal']) & (data['Code postal'] < 76000)].copy()\n",
    "df1.shape"
   ]
  },
  {
   "cell_type": "code",
   "execution_count": 10,
   "id": "bb9fd6f1",
   "metadata": {},
   "outputs": [
    {
     "data": {
      "text/plain": [
       "(39458, 41)"
      ]
     },
     "execution_count": 10,
     "metadata": {},
     "output_type": "execute_result"
    }
   ],
   "source": [
    "df2 = data[data['Greffe'] == 'PARIS'].copy()\n",
    "df2.shape"
   ]
  },
  {
   "cell_type": "code",
   "execution_count": 11,
   "id": "fd5195cb",
   "metadata": {},
   "outputs": [
    {
     "data": {
      "text/html": [
       "<div>\n",
       "<style scoped>\n",
       "    .dataframe tbody tr th:only-of-type {\n",
       "        vertical-align: middle;\n",
       "    }\n",
       "\n",
       "    .dataframe tbody tr th {\n",
       "        vertical-align: top;\n",
       "    }\n",
       "\n",
       "    .dataframe thead th {\n",
       "        text-align: right;\n",
       "    }\n",
       "</style>\n",
       "<table border=\"1\" class=\"dataframe\">\n",
       "  <thead>\n",
       "    <tr style=\"text-align: right;\">\n",
       "      <th></th>\n",
       "      <th>Greffe</th>\n",
       "      <th>Code postal</th>\n",
       "      <th>Ville</th>\n",
       "      <th>Adresse</th>\n",
       "    </tr>\n",
       "  </thead>\n",
       "  <tbody>\n",
       "    <tr>\n",
       "      <th>186942</th>\n",
       "      <td>NaN</td>\n",
       "      <td>75008.0</td>\n",
       "      <td>PARIS</td>\n",
       "      <td>19 RUE DE TURIN</td>\n",
       "    </tr>\n",
       "    <tr>\n",
       "      <th>385039</th>\n",
       "      <td>NaN</td>\n",
       "      <td>75008.0</td>\n",
       "      <td>PARIS</td>\n",
       "      <td>34 AVENUE DES CHAMPS ELYSEES</td>\n",
       "    </tr>\n",
       "  </tbody>\n",
       "</table>\n",
       "</div>"
      ],
      "text/plain": [
       "       Greffe  Code postal  Ville                       Adresse\n",
       "186942    NaN      75008.0  PARIS               19 RUE DE TURIN\n",
       "385039    NaN      75008.0  PARIS  34 AVENUE DES CHAMPS ELYSEES"
      ]
     },
     "execution_count": 11,
     "metadata": {},
     "output_type": "execute_result"
    }
   ],
   "source": [
    "pd.concat([df1,df2,df2]).drop_duplicates(keep=False)[['Greffe','Code postal','Ville','Adresse']]"
   ]
  },
  {
   "cell_type": "markdown",
   "id": "77c4925e",
   "metadata": {},
   "source": [
    "Il y a deux entreprises qui ont pour ville Paris mais pas de valeur pour le greffe, rectifions cela"
   ]
  },
  {
   "cell_type": "code",
   "execution_count": 12,
   "id": "0d3a7656",
   "metadata": {},
   "outputs": [],
   "source": [
    "data.loc[[186942,385039],['Greffe']] = 'PARIS'"
   ]
  },
  {
   "cell_type": "markdown",
   "id": "6faac62a",
   "metadata": {},
   "source": [
    "## Entreprises à Paris 2020"
   ]
  },
  {
   "cell_type": "code",
   "execution_count": 13,
   "id": "c8157f5f",
   "metadata": {},
   "outputs": [],
   "source": [
    "# Données ayant pour greffe PARIS\n",
    "data_paris = data[data['Greffe'] == 'PARIS'].copy()"
   ]
  },
  {
   "cell_type": "code",
   "execution_count": 14,
   "id": "b5eae7d0",
   "metadata": {
    "scrolled": false
   },
   "outputs": [],
   "source": [
    "# Series donnant le nombre de cellules vides par colonnes\n",
    "all_cols = data_paris.isnull().sum().sort_values()"
   ]
  },
  {
   "cell_type": "code",
   "execution_count": 15,
   "id": "b1b1c8db",
   "metadata": {},
   "outputs": [
    {
     "data": {
      "text/plain": [
       "89.05980739989863"
      ]
     },
     "execution_count": 15,
     "metadata": {},
     "output_type": "execute_result"
    }
   ],
   "source": [
    "data_paris['Effectif 1'].isnull().sum()/ data_paris.shape[0] * 100"
   ]
  },
  {
   "cell_type": "markdown",
   "id": "848af2e0",
   "metadata": {},
   "source": [
    "Certaines colonnes contiennent près de 90% de données nulles, nous allons les supprimer."
   ]
  },
  {
   "cell_type": "code",
   "execution_count": 30,
   "id": "a86feb4d",
   "metadata": {},
   "outputs": [
    {
     "data": {
      "text/plain": [
       "CA 2               24933\n",
       "CA 3               25142\n",
       "Effectif 1         35143\n",
       "Effectif 2         35302\n",
       "Effectif 3         35466\n",
       "Date radiation     39460\n",
       "Geolocalisation    39460\n",
       "dtype: int64"
      ]
     },
     "execution_count": 30,
     "metadata": {},
     "output_type": "execute_result"
    }
   ],
   "source": [
    "all_cols[-7:]"
   ]
  },
  {
   "cell_type": "code",
   "execution_count": 31,
   "id": "92989c14",
   "metadata": {},
   "outputs": [],
   "source": [
    "data_paris[data_paris['Code postal'].isnull()];"
   ]
  },
  {
   "cell_type": "code",
   "execution_count": 32,
   "id": "b3f61982",
   "metadata": {},
   "outputs": [],
   "source": [
    "drop_cols = (all_cols[all_cols > 35000]).keys()"
   ]
  },
  {
   "cell_type": "code",
   "execution_count": 33,
   "id": "c78f5495",
   "metadata": {},
   "outputs": [],
   "source": [
    "data = data_paris.drop(drop_cols, axis=1)"
   ]
  },
  {
   "cell_type": "code",
   "execution_count": 34,
   "id": "796a6402",
   "metadata": {},
   "outputs": [
    {
     "data": {
      "text/plain": [
       "Dénomination                      0\n",
       "Siren                             0\n",
       "fiche_identite                    0\n",
       "Forme Juridique                   0\n",
       "Greffe                            0\n",
       "Date immatriculation              2\n",
       "Code Greffe                       2\n",
       "Date de publication               6\n",
       "Statut                            6\n",
       "Date de cloture exercice 1        8\n",
       "Millesime 1                       8\n",
       "tranche_ca_millesime_1            9\n",
       "Durée 1                           9\n",
       "Nic                              10\n",
       "tranche_ca_millesime_3           11\n",
       "tranche_ca_millesime_2           11\n",
       "Adresse                          12\n",
       "Ville                            15\n",
       "Code postal                      15\n",
       "Département                      16\n",
       "Région                           16\n",
       "Num. dept.                       16\n",
       "Code APE                       1871\n",
       "Libellé APE                    1871\n",
       "Millesime 2                    6334\n",
       "Durée 2                        6334\n",
       "Date de cloture exercice 2     6334\n",
       "Millesime 3                    9575\n",
       "Date de cloture exercice 3     9575\n",
       "Durée 3                        9575\n",
       "Résultat 1                    22720\n",
       "CA 1                          23247\n",
       "Résultat 2                    24452\n",
       "Résultat 3                    24619\n",
       "CA 2                          24933\n",
       "CA 3                          25142\n",
       "dtype: int64"
      ]
     },
     "execution_count": 34,
     "metadata": {},
     "output_type": "execute_result"
    }
   ],
   "source": [
    "data.isnull().sum().sort_values()"
   ]
  },
  {
   "cell_type": "markdown",
   "id": "b4bca3cd",
   "metadata": {},
   "source": [
    "Une petite recherche google nous permet de conclure les date d'immatriculation"
   ]
  },
  {
   "cell_type": "code",
   "execution_count": 20,
   "id": "9d6f32a5",
   "metadata": {},
   "outputs": [
    {
     "data": {
      "text/html": [
       "<div>\n",
       "<style scoped>\n",
       "    .dataframe tbody tr th:only-of-type {\n",
       "        vertical-align: middle;\n",
       "    }\n",
       "\n",
       "    .dataframe tbody tr th {\n",
       "        vertical-align: top;\n",
       "    }\n",
       "\n",
       "    .dataframe thead th {\n",
       "        text-align: right;\n",
       "    }\n",
       "</style>\n",
       "<table border=\"1\" class=\"dataframe\">\n",
       "  <thead>\n",
       "    <tr style=\"text-align: right;\">\n",
       "      <th></th>\n",
       "      <th>Dénomination</th>\n",
       "      <th>Siren</th>\n",
       "      <th>Nic</th>\n",
       "      <th>Forme Juridique</th>\n",
       "      <th>Code APE</th>\n",
       "      <th>Libellé APE</th>\n",
       "      <th>Adresse</th>\n",
       "      <th>Code postal</th>\n",
       "      <th>Ville</th>\n",
       "      <th>Num. dept.</th>\n",
       "      <th>...</th>\n",
       "      <th>Résultat 2</th>\n",
       "      <th>Millesime 3</th>\n",
       "      <th>Date de cloture exercice 3</th>\n",
       "      <th>Durée 3</th>\n",
       "      <th>CA 3</th>\n",
       "      <th>Résultat 3</th>\n",
       "      <th>fiche_identite</th>\n",
       "      <th>tranche_ca_millesime_1</th>\n",
       "      <th>tranche_ca_millesime_2</th>\n",
       "      <th>tranche_ca_millesime_3</th>\n",
       "    </tr>\n",
       "  </thead>\n",
       "  <tbody>\n",
       "    <tr>\n",
       "      <th>186942</th>\n",
       "      <td>MAISON GABRIELLE BEAU</td>\n",
       "      <td>880877113</td>\n",
       "      <td>14.0</td>\n",
       "      <td>Societe par actions simplifiee a associe unique</td>\n",
       "      <td>7410Z</td>\n",
       "      <td>Activites specialisees de design</td>\n",
       "      <td>19 RUE DE TURIN</td>\n",
       "      <td>75008.0</td>\n",
       "      <td>PARIS</td>\n",
       "      <td>75.0</td>\n",
       "      <td>...</td>\n",
       "      <td>NaN</td>\n",
       "      <td>NaN</td>\n",
       "      <td>NaN</td>\n",
       "      <td>NaN</td>\n",
       "      <td>NaN</td>\n",
       "      <td>NaN</td>\n",
       "      <td>https://www.infogreffe.fr/infogreffe/ficheIden...</td>\n",
       "      <td>NaN</td>\n",
       "      <td>NaN</td>\n",
       "      <td>NaN</td>\n",
       "    </tr>\n",
       "    <tr>\n",
       "      <th>385039</th>\n",
       "      <td>GROUP ELAN</td>\n",
       "      <td>882920515</td>\n",
       "      <td>13.0</td>\n",
       "      <td>Societe par actions simplifiee</td>\n",
       "      <td>7022Z</td>\n",
       "      <td>Conseil pour les affaires et autres conseils d...</td>\n",
       "      <td>34 AVENUE DES CHAMPS ELYSEES</td>\n",
       "      <td>75008.0</td>\n",
       "      <td>PARIS</td>\n",
       "      <td>NaN</td>\n",
       "      <td>...</td>\n",
       "      <td>NaN</td>\n",
       "      <td>NaN</td>\n",
       "      <td>NaN</td>\n",
       "      <td>NaN</td>\n",
       "      <td>NaN</td>\n",
       "      <td>NaN</td>\n",
       "      <td>https://www.infogreffe.fr/infogreffe/ficheIden...</td>\n",
       "      <td>NaN</td>\n",
       "      <td>NaN</td>\n",
       "      <td>NaN</td>\n",
       "    </tr>\n",
       "  </tbody>\n",
       "</table>\n",
       "<p>2 rows × 36 columns</p>\n",
       "</div>"
      ],
      "text/plain": [
       "                 Dénomination      Siren   Nic  \\\n",
       "186942  MAISON GABRIELLE BEAU  880877113  14.0   \n",
       "385039             GROUP ELAN  882920515  13.0   \n",
       "\n",
       "                                        Forme Juridique Code APE  \\\n",
       "186942  Societe par actions simplifiee a associe unique    7410Z   \n",
       "385039                   Societe par actions simplifiee    7022Z   \n",
       "\n",
       "                                              Libellé APE  \\\n",
       "186942                   Activites specialisees de design   \n",
       "385039  Conseil pour les affaires et autres conseils d...   \n",
       "\n",
       "                             Adresse  Code postal  Ville  Num. dept.  ...  \\\n",
       "186942               19 RUE DE TURIN      75008.0  PARIS        75.0  ...   \n",
       "385039  34 AVENUE DES CHAMPS ELYSEES      75008.0  PARIS         NaN  ...   \n",
       "\n",
       "       Résultat 2 Millesime 3  Date de cloture exercice 3 Durée 3 CA 3  \\\n",
       "186942        NaN         NaN                         NaN     NaN  NaN   \n",
       "385039        NaN         NaN                         NaN     NaN  NaN   \n",
       "\n",
       "       Résultat 3                                     fiche_identite  \\\n",
       "186942        NaN  https://www.infogreffe.fr/infogreffe/ficheIden...   \n",
       "385039        NaN  https://www.infogreffe.fr/infogreffe/ficheIden...   \n",
       "\n",
       "        tranche_ca_millesime_1 tranche_ca_millesime_2  tranche_ca_millesime_3  \n",
       "186942                     NaN                    NaN                     NaN  \n",
       "385039                     NaN                    NaN                     NaN  \n",
       "\n",
       "[2 rows x 36 columns]"
      ]
     },
     "execution_count": 20,
     "metadata": {},
     "output_type": "execute_result"
    }
   ],
   "source": [
    "data[data['Date immatriculation'].isnull()]"
   ]
  },
  {
   "cell_type": "code",
   "execution_count": 35,
   "id": "87065a0a",
   "metadata": {},
   "outputs": [],
   "source": [
    "indice = [186942,385039]\n",
    "date = ['2020-01-22','2020-04-15']"
   ]
  },
  {
   "cell_type": "code",
   "execution_count": 36,
   "id": "745f46aa",
   "metadata": {},
   "outputs": [],
   "source": [
    "data.loc[indice, 'Date immatriculation'] = date"
   ]
  },
  {
   "cell_type": "markdown",
   "id": "1a883764",
   "metadata": {},
   "source": [
    "Ajouté correctement"
   ]
  },
  {
   "cell_type": "code",
   "execution_count": 37,
   "id": "dd275716",
   "metadata": {},
   "outputs": [
    {
     "data": {
      "text/plain": [
       "186942    2020-01-22\n",
       "385039    2020-04-15\n",
       "Name: Date immatriculation, dtype: object"
      ]
     },
     "execution_count": 37,
     "metadata": {},
     "output_type": "execute_result"
    }
   ],
   "source": [
    "data.loc[indice, 'Date immatriculation']"
   ]
  },
  {
   "cell_type": "code",
   "execution_count": 38,
   "id": "01ec4b57",
   "metadata": {},
   "outputs": [],
   "source": [
    "data.to_csv('chiffres-paris-2020.csv', index=False)"
   ]
  },
  {
   "cell_type": "code",
   "execution_count": 39,
   "id": "3603472a",
   "metadata": {},
   "outputs": [],
   "source": [
    "df = pd.read_csv('chiffres-paris-2020.csv')"
   ]
  },
  {
   "cell_type": "code",
   "execution_count": 41,
   "id": "7369b3d2",
   "metadata": {
    "scrolled": false
   },
   "outputs": [
    {
     "data": {
      "text/plain": [
       "Dénomination                      0\n",
       "Siren                             0\n",
       "fiche_identite                    0\n",
       "Forme Juridique                   0\n",
       "Date immatriculation              0\n",
       "Greffe                            0\n",
       "Code Greffe                       2\n",
       "Date de publication               6\n",
       "Statut                            6\n",
       "Date de cloture exercice 1        8\n",
       "Millesime 1                       8\n",
       "tranche_ca_millesime_1            9\n",
       "Durée 1                           9\n",
       "Nic                              10\n",
       "tranche_ca_millesime_3           11\n",
       "tranche_ca_millesime_2           11\n",
       "Adresse                          12\n",
       "Ville                            15\n",
       "Code postal                      15\n",
       "Département                      16\n",
       "Région                           16\n",
       "Num. dept.                       16\n",
       "Code APE                       1871\n",
       "Libellé APE                    1871\n",
       "Millesime 2                    6334\n",
       "Durée 2                        6334\n",
       "Date de cloture exercice 2     6334\n",
       "Millesime 3                    9575\n",
       "Date de cloture exercice 3     9575\n",
       "Durée 3                        9575\n",
       "Résultat 1                    22720\n",
       "CA 1                          23247\n",
       "Résultat 2                    24452\n",
       "Résultat 3                    24619\n",
       "CA 2                          24933\n",
       "CA 3                          25142\n",
       "dtype: int64"
      ]
     },
     "execution_count": 41,
     "metadata": {},
     "output_type": "execute_result"
    }
   ],
   "source": [
    "df.isnull().sum().sort_values()"
   ]
  },
  {
   "cell_type": "code",
   "execution_count": null,
   "id": "17bb41b3",
   "metadata": {},
   "outputs": [],
   "source": []
  }
 ],
 "metadata": {
  "kernelspec": {
   "display_name": "Python 3",
   "language": "python",
   "name": "python3"
  },
  "language_info": {
   "codemirror_mode": {
    "name": "ipython",
    "version": 3
   },
   "file_extension": ".py",
   "mimetype": "text/x-python",
   "name": "python",
   "nbconvert_exporter": "python",
   "pygments_lexer": "ipython3",
   "version": "3.8.8"
  }
 },
 "nbformat": 4,
 "nbformat_minor": 5
}
